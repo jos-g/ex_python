{
 "cells": [
  {
   "cell_type": "code",
   "execution_count": 1,
   "metadata": {},
   "outputs": [],
   "source": [
    "import numpy as np\n",
    "import math"
   ]
  },
  {
   "cell_type": "code",
   "execution_count": 2,
   "metadata": {},
   "outputs": [
    {
     "name": "stdout",
     "output_type": "stream",
     "text": [
      "a+b = 8\n"
     ]
    }
   ],
   "source": [
    "# 01-a\n",
    "\n",
    "a1 = 2 \n",
    "b1 = 6\n",
    "u1= a1+b1\n",
    "print('a+b =', u1)"
   ]
  },
  {
   "cell_type": "code",
   "execution_count": 3,
   "metadata": {},
   "outputs": [
    {
     "name": "stdout",
     "output_type": "stream",
     "text": [
      "a-b =  6\n"
     ]
    }
   ],
   "source": [
    "#01-b\n",
    "a2=15\n",
    "b2=9\n",
    "u2= a2-b2\n",
    "print('a-b = ', u2)"
   ]
  },
  {
   "cell_type": "code",
   "execution_count": 4,
   "metadata": {},
   "outputs": [
    {
     "name": "stdout",
     "output_type": "stream",
     "text": [
      "a x b = 20\n"
     ]
    }
   ],
   "source": [
    "#01-c\n",
    "a3=4\n",
    "b3=5\n",
    "u3= a3*b3\n",
    "print('a x b =', u3)"
   ]
  },
  {
   "cell_type": "code",
   "execution_count": 5,
   "metadata": {},
   "outputs": [
    {
     "name": "stdout",
     "output_type": "stream",
     "text": [
      "a/b = 6\n"
     ]
    }
   ],
   "source": [
    "#01-d\n",
    "a4=27\n",
    "b4=4\n",
    "u4= a4 // b4\n",
    "print('a/b =', u4)"
   ]
  },
  {
   "cell_type": "code",
   "execution_count": 6,
   "metadata": {},
   "outputs": [
    {
     "name": "stdout",
     "output_type": "stream",
     "text": [
      "a/b =  12\n"
     ]
    }
   ],
   "source": [
    "#01-e\n",
    "a5= 3*40\n",
    "b5= 10\n",
    "u5= a5//b5\n",
    "print('a/b = ', u5)"
   ]
  },
  {
   "cell_type": "code",
   "execution_count": 7,
   "metadata": {},
   "outputs": [
    {
     "name": "stdout",
     "output_type": "stream",
     "text": [
      "a+b = 4123\n"
     ]
    }
   ],
   "source": [
    "#01-f\n",
    "a6= 4**6\n",
    "b6 =3**3\n",
    "u6 = a6+b6\n",
    "print('a+b =', u6 )"
   ]
  },
  {
   "cell_type": "code",
   "execution_count": 8,
   "metadata": {},
   "outputs": [
    {
     "name": "stdout",
     "output_type": "stream",
     "text": [
      "a-b =  -112.5\n"
     ]
    }
   ],
   "source": [
    "#01-g\n",
    "a7 =6 \n",
    "b7 = 6*(4**2 + 15/4)\n",
    "u7 = a7 - b7\n",
    "print('a-b = ', u7)"
   ]
  },
  {
   "cell_type": "code",
   "execution_count": 9,
   "metadata": {},
   "outputs": [],
   "source": [
    "from math import floor, ceil, pi"
   ]
  },
  {
   "cell_type": "code",
   "execution_count": 10,
   "metadata": {},
   "outputs": [
    {
     "name": "stdout",
     "output_type": "stream",
     "text": [
      "2 3 2.455\n",
      "3 4 3.959\n",
      "-4 -3 -3.32\n"
     ]
    }
   ],
   "source": [
    "#02\n",
    "b_0 = (15-9)*0.65987\n",
    "c_0 = (4*5)*(-0.16598123)\n",
    "n = 2.45465789\n",
    "print(floor(n),ceil(n),np.round(n,3))\n",
    "print(floor(b_0),ceil(b_0),np.round(b_0,3))\n",
    "print(floor(c_0),ceil(c_0),np.round(c_0,3))"
   ]
  },
  {
   "cell_type": "code",
   "execution_count": 11,
   "metadata": {},
   "outputs": [],
   "source": [
    "\n",
    "#int = a//b\n",
    "#rest = a%b\n"
   ]
  },
  {
   "cell_type": "code",
   "execution_count": 12,
   "metadata": {},
   "outputs": [
    {
     "name": "stdout",
     "output_type": "stream",
     "text": [
      "a/b= 2 e o resto é:  3\n"
     ]
    }
   ],
   "source": [
    "#03-a\n",
    "k1 = 15//6\n",
    "h1 = 15%6\n",
    "print( 'a/b=', k1, 'e o resto é: ',h1)"
   ]
  },
  {
   "cell_type": "code",
   "execution_count": 13,
   "metadata": {},
   "outputs": [
    {
     "name": "stdout",
     "output_type": "stream",
     "text": [
      "a/b= 9 e o resto é:  2\n"
     ]
    }
   ],
   "source": [
    "#03-b\n",
    "k2 = 29//3\n",
    "h2 = 29%3\n",
    "print( 'a/b=', k2, 'e o resto é: ',h2)"
   ]
  },
  {
   "cell_type": "code",
   "execution_count": 14,
   "metadata": {},
   "outputs": [
    {
     "name": "stdout",
     "output_type": "stream",
     "text": [
      "a/b= 6 e o resto é:  2\n"
     ]
    }
   ],
   "source": [
    "#03-c\n",
    "k3 = 26//4\n",
    "h3 = 26%4\n",
    "print( 'a/b=', k3, 'e o resto é: ',h3)"
   ]
  },
  {
   "cell_type": "code",
   "execution_count": 15,
   "metadata": {},
   "outputs": [],
   "source": [
    "#04\n",
    "from fractions import Fraction"
   ]
  },
  {
   "cell_type": "code",
   "execution_count": 16,
   "metadata": {},
   "outputs": [
    {
     "name": "stdout",
     "output_type": "stream",
     "text": [
      "13/6\n"
     ]
    }
   ],
   "source": [
    "# a = Fraction(n,d)\n",
    "#04-a\n",
    "f1 = Fraction(2,3)\n",
    "f2 = Fraction(3,2)\n",
    "s_1 = f1 + f2\n",
    "print(s_1)"
   ]
  },
  {
   "cell_type": "code",
   "execution_count": 17,
   "metadata": {},
   "outputs": [
    {
     "name": "stdout",
     "output_type": "stream",
     "text": [
      "99/20\n"
     ]
    }
   ],
   "source": [
    "#04-b\n",
    "f1 = Fraction(15,4)\n",
    "f2 = Fraction(6,5)\n",
    "s_2 = f1 + f2\n",
    "print(s_2)\n"
   ]
  },
  {
   "cell_type": "code",
   "execution_count": 18,
   "metadata": {},
   "outputs": [
    {
     "name": "stdout",
     "output_type": "stream",
     "text": [
      "22/45\n"
     ]
    }
   ],
   "source": [
    "#04-c\n",
    "f3 = Fraction(2,9)\n",
    "f4 = Fraction(4,15)\n",
    "s_3 = f3 + f4\n",
    "print(s_3)"
   ]
  },
  {
   "cell_type": "code",
   "execution_count": 19,
   "metadata": {},
   "outputs": [
    {
     "name": "stdout",
     "output_type": "stream",
     "text": [
      "-2/45\n"
     ]
    }
   ],
   "source": [
    "#04-d\n",
    "f5= Fraction(2,9)\n",
    "f6 = Fraction(4,15)\n",
    "s_4 = f5 - f6\n",
    "print(s_4)"
   ]
  },
  {
   "cell_type": "code",
   "execution_count": 20,
   "metadata": {},
   "outputs": [
    {
     "name": "stdout",
     "output_type": "stream",
     "text": [
      "425/24\n"
     ]
    }
   ],
   "source": [
    "#04-e\n",
    "f7 = Fraction(17,4)\n",
    "f8 = Fraction(6,25)\n",
    "s_5 = f7/f8\n",
    "print(s_5)"
   ]
  },
  {
   "cell_type": "code",
   "execution_count": 21,
   "metadata": {},
   "outputs": [],
   "source": [
    "#05 \n",
    "from numpy import polyadd, polysub, polymul, polydiv"
   ]
  },
  {
   "cell_type": "code",
   "execution_count": 22,
   "metadata": {},
   "outputs": [],
   "source": [
    "pol_1 = (4,-1,8)\n",
    "pol_2 = (-1,3,-15)\n",
    "pol_3 = (8,-15,-6)\n",
    "pol_4 = (-3,-3,-15)\n",
    "pol_5 = (3,5,6)\n",
    "pol_6 = (1,-1,0)"
   ]
  },
  {
   "cell_type": "code",
   "execution_count": 23,
   "metadata": {},
   "outputs": [
    {
     "name": "stdout",
     "output_type": "stream",
     "text": [
      "[ 3  2 -7] [  7 -12 -21] [  5 -18 -21] [2 6 6]\n"
     ]
    }
   ],
   "source": [
    "#05\n",
    "op_01 = polyadd(pol_1,pol_2)\n",
    "op_02 = polyadd(pol_2,pol_3)\n",
    "op_03 = polyadd(pol_3,pol_4)\n",
    "op_04 = polysub(pol_5,pol_6)\n",
    "print(op_01, op_02, op_03,op_04)\n"
   ]
  },
  {
   "cell_type": "code",
   "execution_count": 24,
   "metadata": {},
   "outputs": [
    {
     "name": "stdout",
     "output_type": "stream",
     "text": [
      "(array([12.,  6.]), array([-5.,  9.]))\n"
     ]
    }
   ],
   "source": [
    "#06 \n",
    "c_1 = (12,-6,1,15)\n",
    "c_2 = (1,-1,1)\n",
    "op_05= polydiv(c_1,c_2)\n",
    "print(op_05)"
   ]
  },
  {
   "cell_type": "code",
   "execution_count": 25,
   "metadata": {},
   "outputs": [
    {
     "name": "stdout",
     "output_type": "stream",
     "text": [
      "Lorentz Einstein Halley\n"
     ]
    }
   ],
   "source": [
    "#09 Definir Lista\n",
    "b = ['Lorentz','Einstein', 'Halley','Planck','Currie']\n",
    "print(b[0],b[1],b[2])\n"
   ]
  },
  {
   "cell_type": "code",
   "execution_count": 26,
   "metadata": {},
   "outputs": [
    {
     "name": "stdout",
     "output_type": "stream",
     "text": [
      "['Lorentz', 'Einstein', 'Planck', 'Currie']\n"
     ]
    }
   ],
   "source": [
    "#09-d\n",
    "b.remove(b[2])\n",
    "print(b)"
   ]
  },
  {
   "cell_type": "code",
   "execution_count": 27,
   "metadata": {},
   "outputs": [
    {
     "name": "stdout",
     "output_type": "stream",
     "text": [
      "['Currie', 'Einstein', 'Planck', 'Lorentz']\n"
     ]
    }
   ],
   "source": [
    "#09-e\n",
    "aux = 'Lorentz'\n",
    "b[0]= b[3]\n",
    "b[3] = aux\n",
    "print(b)"
   ]
  },
  {
   "cell_type": "code",
   "execution_count": 28,
   "metadata": {},
   "outputs": [
    {
     "name": "stdout",
     "output_type": "stream",
     "text": [
      "['Lorentz', 'Einstein', 'Halley', 'Planck', 'Currie']\n",
      "['Currie', 'Planck', 'Halley', 'Einstein', 'Lorentz']\n"
     ]
    }
   ],
   "source": [
    "#09-f\n",
    "b = ['Lorentz','Einstein', 'Halley','Planck','Currie']\n",
    "print(b)\n",
    "#print(r)\n",
    "print(b[::-1])"
   ]
  },
  {
   "cell_type": "code",
   "execution_count": 29,
   "metadata": {},
   "outputs": [
    {
     "name": "stdout",
     "output_type": "stream",
     "text": [
      "['Lorentz', 'Einstein', 'Halley', 'Planck', 'Currie', 'Armando', 'Capri', 'Henrique', 'Maria Lúcia', 'Santiago', 'Vitor Lemes', 'Rudnei', 'Metal', 'Von Ranke', 'Nilson']\n"
     ]
    }
   ],
   "source": [
    "c = ['Armando', 'Capri', 'Henrique', 'Maria Lúcia', 'Santiago','Vitor Lemes', 'Rudnei', 'Metal','Von Ranke', 'Nilson']\n",
    "u = b + c\n",
    "print(u)"
   ]
  },
  {
   "cell_type": "code",
   "execution_count": 30,
   "metadata": {},
   "outputs": [
    {
     "name": "stdout",
     "output_type": "stream",
     "text": [
      "A nova lista contém 15 físicos casca grossas.\n"
     ]
    }
   ],
   "source": [
    "print('A nova lista contém', len(u), 'físicos casca grossas.')"
   ]
  },
  {
   "cell_type": "code",
   "execution_count": 31,
   "metadata": {},
   "outputs": [
    {
     "name": "stdout",
     "output_type": "stream",
     "text": [
      "['Lorentz', 'Einstein', 'Halley', 'Planck', 'Currie', 'Armando', 'Capri', 'Henrique', 'Maria Lúcia', 'Santiago', 'Vitor Lemes', 'Rudnei', 'Metal', 'Von Ranke', 'Nilson', ['Maria de Fátima', 'Câmara', 'Lais', 'Chiapparini']]\n"
     ]
    }
   ],
   "source": [
    "d = ['Maria de Fátima', 'Câmara', 'Lais', 'Chiapparini']\n",
    "u.append(d)\n",
    "print(u)"
   ]
  },
  {
   "cell_type": "code",
   "execution_count": 32,
   "metadata": {},
   "outputs": [
    {
     "name": "stdout",
     "output_type": "stream",
     "text": [
      "A lista dentro da lista é ['Maria de Fátima', 'Câmara', 'Lais', 'Chiapparini']\n"
     ]
    }
   ],
   "source": [
    "print('A lista dentro da lista é', u[15])"
   ]
  },
  {
   "cell_type": "code",
   "execution_count": 33,
   "metadata": {},
   "outputs": [
    {
     "name": "stdout",
     "output_type": "stream",
     "text": [
      "['Maria de Fátima', 'Câmara', 'Lais', 'Chiapparini', 'Luis Fernando', 'Soares', 'Claudio Elias', 'Pinheiro']\n"
     ]
    }
   ],
   "source": [
    "e = ['Luis Fernando', 'Begalli', 'Soares', 'Begalli', 'Claudio Elias', 'Pinheiro']\n",
    "k = d + e\n",
    "k[:]= (value for value in k if value !='Begalli')\n",
    "print(k)"
   ]
  },
  {
   "cell_type": "code",
   "execution_count": 34,
   "metadata": {},
   "outputs": [
    {
     "name": "stdout",
     "output_type": "stream",
     "text": [
      "15\n",
      "[0.3, 0.5, 0.9, 1, 2, 3, 5, 9, 30, 32, 45, 56, 57, 76, 99]\n",
      "[99, 76, 57, 56, 45, 32, 30, 9, 5, 3, 2, 1, 0.9, 0.5, 0.3]\n"
     ]
    }
   ],
   "source": [
    "number = [0.5,3,9,45,32,56,99,30,0.3,0.9,1,57,76,5,2]\n",
    "print(len(number))\n",
    "cres = sorted(number)\n",
    "decres = sorted(number, reverse=True)\n",
    "print(cres)\n",
    "print(decres)"
   ]
  }
 ],
 "metadata": {
  "kernelspec": {
   "display_name": "Python 3",
   "language": "python",
   "name": "python3"
  },
  "language_info": {
   "codemirror_mode": {
    "name": "ipython",
    "version": 3
   },
   "file_extension": ".py",
   "mimetype": "text/x-python",
   "name": "python",
   "nbconvert_exporter": "python",
   "pygments_lexer": "ipython3",
   "version": "3.10.2"
  },
  "orig_nbformat": 4
 },
 "nbformat": 4,
 "nbformat_minor": 2
}
